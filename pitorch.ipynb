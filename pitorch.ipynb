{
  "nbformat": 4,
  "nbformat_minor": 0,
  "metadata": {
    "colab": {
      "provenance": [],
      "authorship_tag": "ABX9TyPJtQRqJQZtVYY3xtEWVmeR",
      "include_colab_link": true
    },
    "kernelspec": {
      "name": "python3",
      "display_name": "Python 3"
    },
    "language_info": {
      "name": "python"
    }
  },
  "cells": [
    {
      "cell_type": "markdown",
      "metadata": {
        "id": "view-in-github",
        "colab_type": "text"
      },
      "source": [
        "<a href=\"https://colab.research.google.com/github/Anuskaghosh/Anuskaghosh/blob/main/pitorch.ipynb\" target=\"_parent\"><img src=\"https://colab.research.google.com/assets/colab-badge.svg\" alt=\"Open In Colab\"/></a>"
      ]
    },
    {
      "cell_type": "code",
      "execution_count": 6,
      "metadata": {
        "colab": {
          "base_uri": "https://localhost:8080/"
        },
        "id": "FzbH_eS948Jc",
        "outputId": "a2a949a8-74e2-452e-8829-9a85d0e7643e"
      },
      "outputs": [
        {
          "output_type": "stream",
          "name": "stdout",
          "text": [
            "Epoch [100/1000], Loss: 0.0190\n",
            "Epoch [200/1000], Loss: 0.0075\n",
            "Epoch [300/1000], Loss: 0.0046\n",
            "Epoch [400/1000], Loss: 0.0032\n",
            "Epoch [500/1000], Loss: 0.0025\n",
            "Epoch [600/1000], Loss: 0.0020\n",
            "Epoch [700/1000], Loss: 0.0017\n",
            "Epoch [800/1000], Loss: 0.0015\n",
            "Epoch [900/1000], Loss: 0.0013\n",
            "Epoch [1000/1000], Loss: 0.0011\n",
            "Prediction for \"R\": 1.0\n",
            "Prediction for non-R: 0.0\n"
          ]
        }
      ],
      "source": [
        "import torch\n",
        "import torch.nn as nn\n",
        "import torch.optim as optim\n",
        "\n",
        "R_input = torch.tensor([[\n",
        "    [1, 1, 1, 1],\n",
        "    [1, 0, 0, 0],\n",
        "    [1, 1, 1, 0],\n",
        "    [1, 0, 0, 1]\n",
        "]], dtype=torch.float32)\n",
        "\n",
        "\n",
        "R_input = R_input.view(-1, 16)\n",
        "\n",
        "R_label = torch.tensor([1], dtype=torch.float32)\n",
        "\n",
        "other_input = torch.tensor([[\n",
        "    [0, 1, 1, 0],\n",
        "    [1, 0, 0, 1],\n",
        "    [1, 1, 1, 1],\n",
        "    [1, 0, 1, 0]\n",
        "]], dtype=torch.float32).view(-1, 16)\n",
        "\n",
        "other_label = torch.tensor([0], dtype=torch.float32)\n",
        "\n",
        "train_inputs = torch.cat((R_input, other_input))\n",
        "train_labels = torch.cat((R_label, other_label))\n",
        "\n",
        "class SimpleANN(nn.Module):\n",
        "    def __init__(self):\n",
        "        super(SimpleANN, self).__init__()\n",
        "        self.fc1 = nn.Linear(16, 8)\n",
        "        self.fc2 = nn.Linear(8, 1)\n",
        "        self.sigmoid = nn.Sigmoid()\n",
        "\n",
        "    def forward(self, x):\n",
        "        x = self.sigmoid(self.fc1(x))\n",
        "        x = self.sigmoid(self.fc2(x))\n",
        "        return x\n",
        "\n",
        "\n",
        "model = SimpleANN()\n",
        "criterion = nn.BCELoss()\n",
        "optimizer = optim.SGD(model.parameters(), lr=0.7)\n",
        "\n",
        "epochs = 1000\n",
        "for epoch in range(epochs):\n",
        "    optimizer.zero_grad()\n",
        "\n",
        "    outputs = model(train_inputs)\n",
        "    loss = criterion(outputs.squeeze(), train_labels)\n",
        "\n",
        "    loss.backward()\n",
        "    optimizer.step()\n",
        "\n",
        "    if (epoch + 1) % 100 == 0:\n",
        "        print(f'Epoch [{epoch+1}/{epochs}], Loss: {loss.item():.4f}')\n",
        "\n",
        "with torch.no_grad():\n",
        "    test_input = torch.tensor([[\n",
        "        [1, 1, 1, 1],\n",
        "        [1, 0, 0, 0],\n",
        "        [1, 1, 1, 0],\n",
        "        [1, 0, 0, 0]\n",
        "    ]], dtype=torch.float32).view(-1, 16)\n",
        "\n",
        "    output = model(test_input)\n",
        "    prediction = (output >= 0.5).float()\n",
        "    print(f'Prediction for \"R\": {prediction.item()}')\n",
        "\n",
        "    non_R_input = torch.tensor([[\n",
        "        [0, 1, 1, 0],\n",
        "        [1, 0, 0, 1],\n",
        "        [1, 1, 1, 1],\n",
        "        [1, 0, 1, 0]\n",
        "    ]], dtype=torch.float32).view(-1, 16)\n",
        "\n",
        "    output = model(non_R_input)\n",
        "    prediction = (output >= 0.5).float()\n",
        "    print(f'Prediction for non-R: {prediction.item()}')\n"
      ]
    },
    {
      "cell_type": "markdown",
      "source": [
        "Anuska Ghosh\n",
        "Roll no 2205540"
      ],
      "metadata": {
        "id": "WsmFgnmh-0Jl"
      }
    },
    {
      "cell_type": "code",
      "source": [],
      "metadata": {
        "id": "zjVLHPVQ6DgW"
      },
      "execution_count": null,
      "outputs": []
    }
  ]
}